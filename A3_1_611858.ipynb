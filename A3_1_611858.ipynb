{
  "nbformat": 4,
  "nbformat_minor": 0,
  "metadata": {
    "colab": {
      "provenance": []
    },
    "kernelspec": {
      "name": "python3",
      "display_name": "Python 3"
    },
    "language_info": {
      "name": "python"
    }
  },
  "cells": [
    {
      "cell_type": "markdown",
      "source": [
        "\n",
        "# **A3.1 SVM y Multiple Testing**\n"
      ],
      "metadata": {
        "id": "Efdm2mnJJXV_"
      }
    },
    {
      "cell_type": "markdown",
      "source": [
        "**1.** Para empezar, se importan los datos, se imprime un resumen de estos y se revisa que no haya **huecos**. Para esto se usan las funciones `read_csv` y `isnull().values.any()` de la librería `pandas` que devuelve una respuesta booleana. Después, se extraen aquellas observaciones cuya **clase es 2** y aquellas cuya **clase es 4**. Con la librería `numpy` se obtiene la media de las observaciones de cada una de las clases y se obtiene la diferencia. Se imprimen los **10 genes con mayor diferencia de medias**."
      ],
      "metadata": {
        "id": "v8zWTO0LJaws"
      }
    },
    {
      "cell_type": "code",
      "execution_count": 96,
      "metadata": {
        "colab": {
          "base_uri": "https://localhost:8080/"
        },
        "id": "sAHYDic-E3Jw",
        "outputId": "636ea5cc-69f5-46f9-c775-d5ec19008ef6"
      },
      "outputs": [
        {
          "output_type": "stream",
          "name": "stdout",
          "text": [
            "         X1        X2        X3        X4        X5        X6        X7  \\\n",
            "0  0.773344 -2.438405 -0.482562 -2.721135 -1.217058  0.827809  1.342604   \n",
            "1 -0.078178 -2.415754  0.412772 -2.825146 -0.626236  0.054488  1.429498   \n",
            "2 -0.084469 -1.649739 -0.241308 -2.875286 -0.889405 -0.027474  1.159300   \n",
            "3  0.965614 -2.380547  0.625297 -1.741256 -0.845366  0.949687  1.093801   \n",
            "4  0.075664 -1.728785  0.852626  0.272695 -1.841370  0.327936  1.251219   \n",
            "\n",
            "         X8        X9       X10  ...     X2300     X2301     X2302     X2303  \\\n",
            "0  0.057042  0.133569  0.565427  ... -0.027474 -1.660205  0.588231 -0.463624   \n",
            "1 -0.120249  0.456792  0.159053  ... -0.246284 -0.836325 -0.571284  0.034788   \n",
            "2  0.015676  0.191942  0.496585  ...  0.024985 -1.059872 -0.403767 -0.678653   \n",
            "3  0.819736 -0.284620  0.994732  ...  0.357115 -1.893128  0.255107  0.163309   \n",
            "4  0.771450  0.030917  0.278313  ...  0.061753 -2.273998 -0.039365  0.368801   \n",
            "\n",
            "      X2304     X2305     X2306     X2307     X2308  y  \n",
            "0 -3.952845 -5.496768 -1.414282 -0.647600 -1.763172  2  \n",
            "1 -2.478130 -3.661264 -1.093923 -1.209320 -0.824395  2  \n",
            "2 -2.939352 -2.736450 -1.965399 -0.805868 -1.139434  2  \n",
            "3 -1.021929 -2.077843 -1.127629  0.331531 -2.179483  2  \n",
            "4 -2.566551 -1.675044 -1.082050 -0.965218 -1.836966  2  \n",
            "\n",
            "[5 rows x 2309 columns]\n",
            "hay huecos:\n",
            "False\n",
            "10 genes con mayor diferencia de medias entre la clase 2 y 4\n",
            "X187     3.323151\n",
            "X509     2.906537\n",
            "X2046    2.424515\n",
            "X2050    2.401783\n",
            "X129     2.165185\n",
            "X1645    2.065460\n",
            "X1319    2.045941\n",
            "X1955    2.037340\n",
            "X1003    2.011337\n",
            "X246     1.837830\n",
            "dtype: float64\n"
          ]
        }
      ],
      "source": [
        "import pandas as pd\n",
        "import numpy as np\n",
        "\n",
        "df = pd.read_csv('A3.1 Khan.csv')\n",
        "\n",
        "print(df.head())\n",
        "\n",
        "print(\"hay huecos:\")\n",
        "print(df.isnull().values.any())\n",
        "\n",
        "X = df.drop(columns=['y'])\n",
        "y = df['y']\n",
        "\n",
        "X2 = X[y == 2]\n",
        "X4 = X[y == 4]\n",
        "\n",
        "media_2 = X2.mean()\n",
        "media_4 = X4.mean()\n",
        "\n",
        "diferencias = (media_2 - media_4).abs()\n",
        "\n",
        "top_ten = diferencias.sort_values(ascending=False).head(10)\n",
        "print(\"10 genes con mayor diferencia de medias entre la clase 2 y 4\")\n",
        "print(top_ten)\n",
        "\n"
      ]
    },
    {
      "cell_type": "markdown",
      "source": [
        "En terminos de un estudio de inferencia, la diferencia de media entre clases indica si existe una correlacion significativa entre el gen y la clase de cancer. Al inferir, una mayor diferencia de medias significa que dicho gen afecta mas a si la clase es 2 o 4."
      ],
      "metadata": {
        "id": "44Tlu3VfJYi-"
      }
    },
    {
      "cell_type": "markdown",
      "source": [
        "**2.** A continuación se importa la librería `ttest_ind` de `scipy.stats` para calcular el **estadístico t** y el **p-value** asociado de para cada gen cuya clase es **2 o 4**. Los estadísticos t y p-values se guardan en un vector cada uno y se transfieren a un **dataframe**. Además se importa la función `multipletests` de `statsmodels` y se obtienen los **q values** de cada gen con las metodologías: **bonferroni**, **holm** y **benjamini-hochberg**. Se agregan dichos q values al dataframe y posteriormente se separan aquellos genes que sean **significativos segun cada metología** manteniendo un control de **0.05** y se imprimen la cantidad de genes encontrados significativos y un resumen de estos."
      ],
      "metadata": {
        "id": "kdLiKddyKjfB"
      }
    },
    {
      "cell_type": "code",
      "source": [
        "from scipy.stats import ttest_ind\n",
        "from statsmodels.stats.multitest import multipletests\n",
        "t_stats = []\n",
        "p_values = []\n",
        "\n",
        "for col in X.columns:\n",
        "  t_stat, p_val = ttest_ind(X2[col], X4[col], equal_var=False)\n",
        "  t_stats.append(t_stat)\n",
        "  p_values.append(p_val)\n",
        "\n",
        "results = pd.DataFrame({'gen': X.columns, 't_stat': t_stats, 'p_value': p_values})\n",
        "\n",
        "# bonferroni\n",
        "results['p_bonferroni'] = multipletests(results['p_value'], method='bonferroni')[1]\n",
        "\n",
        "# holm\n",
        "results['p_holm'] = multipletests(results['p_value'], method='holm')[1]\n",
        "\n",
        "# benjamini-hochberg\n",
        "results['p_bh'] = multipletests(results['p_value'], method='fdr_bh')[1]\n",
        "\n",
        "significativas_og = results[results['p_value'] < 0.05]\n",
        "significativas_bonferroni = results[results['p_bonferroni'] < 0.05]\n",
        "significativas_holm = results[results['p_holm'] < 0.05]\n",
        "significativas_bh = results[results['p_bh'] < 0.05]\n",
        "\n",
        "print(f\"{len(significativas_og)} genes significativos originalmente:\")\n",
        "print(significativas_og[['gen', 'p_value']])\n",
        "\n",
        "print(f\"\\n{len(significativas_bonferroni)} genes significativos con Bonferroni:\")\n",
        "print(significativas_bonferroni[['gen', 'p_bonferroni']])\n",
        "\n",
        "print(f\"\\n{len(significativas_holm)} genes significativos con Holm:\")\n",
        "print(significativas_holm[['gen', 'p_holm']])\n",
        "\n",
        "print(f\"\\n{len(significativas_bh)} genes significativos con Benjamini-Hochberg:\")\n",
        "print(significativas_bh[['gen', 'p_bh']])"
      ],
      "metadata": {
        "colab": {
          "base_uri": "https://localhost:8080/"
        },
        "id": "EUlZJnWeLENz",
        "outputId": "6d557049-c98e-4920-b053-b8896b243d73"
      },
      "execution_count": 97,
      "outputs": [
        {
          "output_type": "stream",
          "name": "stdout",
          "text": [
            "547 genes significativos originalmente:\n",
            "        gen       p_value\n",
            "1        X2  7.383962e-08\n",
            "2        X3  9.621623e-05\n",
            "10      X11  4.384262e-02\n",
            "25      X26  8.343076e-03\n",
            "28      X29  1.113505e-03\n",
            "...     ...           ...\n",
            "2294  X2295  3.283459e-04\n",
            "2299  X2300  2.057612e-04\n",
            "2300  X2301  2.017711e-04\n",
            "2301  X2302  4.626187e-02\n",
            "2302  X2303  2.491232e-05\n",
            "\n",
            "[547 rows x 2 columns]\n",
            "\n",
            "72 genes significativos con Bonferroni:\n",
            "        gen  p_bonferroni\n",
            "1        X2  1.704218e-04\n",
            "35      X36  1.819958e-03\n",
            "66      X67  3.261383e-02\n",
            "128    X129  5.808252e-06\n",
            "173    X174  1.293274e-05\n",
            "...     ...           ...\n",
            "2045  X2046  4.083533e-11\n",
            "2049  X2050  9.427801e-12\n",
            "2114  X2115  1.681743e-02\n",
            "2145  X2146  1.616023e-06\n",
            "2246  X2247  7.076436e-04\n",
            "\n",
            "[72 rows x 2 columns]\n",
            "\n",
            "72 genes significativos con Holm:\n",
            "        gen        p_holm\n",
            "1        X2  1.682067e-04\n",
            "35      X36  1.786050e-03\n",
            "66      X67  3.168120e-02\n",
            "128    X129  5.760437e-06\n",
            "173    X174  1.282067e-05\n",
            "...     ...           ...\n",
            "2045  X2046  4.072917e-11\n",
            "2049  X2050  9.419631e-12\n",
            "2114  X2115  1.640938e-02\n",
            "2145  X2146  1.604820e-06\n",
            "2246  X2247  6.959926e-04\n",
            "\n",
            "[72 rows x 2 columns]\n",
            "\n",
            "296 genes significativos con Benjamini-Hochberg:\n",
            "        gen      p_bh\n",
            "1        X2  0.000005\n",
            "2        X3  0.002343\n",
            "28      X29  0.014121\n",
            "35      X36  0.000041\n",
            "51      X52  0.006427\n",
            "...     ...       ...\n",
            "2277  X2278  0.009145\n",
            "2294  X2295  0.005413\n",
            "2299  X2300  0.003957\n",
            "2300  X2301  0.003913\n",
            "2302  X2303  0.000777\n",
            "\n",
            "[296 rows x 2 columns]\n"
          ]
        }
      ]
    },
    {
      "cell_type": "markdown",
      "source": [
        "**3.** A continuación, se repite el procedimiento pero en lugar de buscar asociaciones con la clase 2 y 4, se busca comparar las medias de las **4 clases**. Para esto, se utiliza un **análisis de varianza (ANOVA)** en lugar del estadístico t. Para esto se importa la función `f_oneway` de `scipy.stats`. Se extraen las observaciones cuya clase es 1 y los que son de clase 3 y se **estratifican** junto con los obtenidos previamente en **X1**, **X2**, **X3** y **X4**. Se guardan los **estádisticos f** y **p-values** en vectores y posteriormente en un dataframe y de nuevo se aplican las 3 metodologías de **bonferroni**, **holm** y **benjamini-hochberg** para obtener los genes que sean significativos en la diferencia de promedios entre las 4 clases. Se imprime la cantidad de genes significativos encontrados por cada metología y un resumen de estos."
      ],
      "metadata": {
        "id": "T93uFTEgL44K"
      }
    },
    {
      "cell_type": "code",
      "source": [
        "from scipy.stats import f_oneway\n",
        "\n",
        "X1 = X[y == 1]\n",
        "X3 = X[y == 3]\n",
        "\n",
        "f_stats = []\n",
        "p_values = []\n",
        "\n",
        "for col in X.columns:\n",
        "  f_stat, p_val = f_oneway(X1[col], X2[col], X3[col], X4[col])\n",
        "  f_stats.append(f_stat)\n",
        "  p_values.append(p_val)\n",
        "\n",
        "anova_results = pd.DataFrame({\n",
        "    'gen': X.columns,\n",
        "    'f_statistic': f_stats,\n",
        "    'p_value': p_values\n",
        "})\n",
        "\n",
        "anova_results['p_bonferroni'] = multipletests(anova_results['p_value'], method='bonferroni')[1]\n",
        "anova_results['p_holm'] = multipletests(anova_results['p_value'], method='holm')[1]\n",
        "anova_results['p_bh'] = multipletests(anova_results['p_value'], method='fdr_bh')[1]\n",
        "\n",
        "significativas_og = anova_results[anova_results['p_value'] < 0.05]\n",
        "significativas_bonferroni = anova_results[anova_results['p_bonferroni'] < 0.05]\n",
        "significativas_holm = anova_results[anova_results['p_holm'] < 0.05]\n",
        "significativas_bh = anova_results[anova_results['p_bh'] < 0.05]\n",
        "\n",
        "print(f\"{len(significativas_og)} genes significativos originalmente:\")\n",
        "print(significativas_og[['gen', 'p_value']])\n",
        "\n",
        "print(f\"\\n{len(significativas_bonferroni)} genes significativos con Bonferroni:\")\n",
        "print(significativas_bonferroni[['gen', 'p_bonferroni']])\n",
        "\n",
        "print(f\"\\n{len(significativas_holm)} genes significativos con Holm:\")\n",
        "print(significativas_holm[['gen', 'p_holm']])\n",
        "\n",
        "print(f\"\\n{len(significativas_bh)} genes significativos con Benjamini-Hochberg:\")\n",
        "print(significativas_bh[['gen', 'p_bh']])"
      ],
      "metadata": {
        "colab": {
          "base_uri": "https://localhost:8080/"
        },
        "id": "LUIDgnQkWOeq",
        "outputId": "6b8e8155-9172-446b-b63d-c1d661738a5d"
      },
      "execution_count": 98,
      "outputs": [
        {
          "output_type": "stream",
          "name": "stdout",
          "text": [
            "1303 genes significativos originalmente:\n",
            "        gen       p_value\n",
            "0        X1  3.839240e-20\n",
            "1        X2  1.977997e-13\n",
            "2        X3  5.004749e-07\n",
            "8        X9  8.500660e-05\n",
            "11      X12  2.418413e-02\n",
            "...     ...           ...\n",
            "2299  X2300  4.569746e-05\n",
            "2300  X2301  5.730919e-09\n",
            "2301  X2302  1.665371e-02\n",
            "2302  X2303  1.836660e-14\n",
            "2303  X2304  4.752118e-06\n",
            "\n",
            "[1303 rows x 2 columns]\n",
            "\n",
            "404 genes significativos con Bonferroni:\n",
            "        gen  p_bonferroni\n",
            "0        X1  8.860966e-17\n",
            "1        X2  4.565218e-10\n",
            "2        X3  1.155096e-03\n",
            "16      X17  1.996535e-03\n",
            "28      X29  1.832080e-05\n",
            "...     ...           ...\n",
            "2293  X2294  9.538627e-03\n",
            "2298  X2299  8.740287e-03\n",
            "2300  X2301  1.322696e-05\n",
            "2302  X2303  4.239011e-11\n",
            "2303  X2304  1.096789e-02\n",
            "\n",
            "[404 rows x 2 columns]\n",
            "\n",
            "412 genes significativos con Holm:\n",
            "        gen        p_holm\n",
            "0        X1  8.837930e-17\n",
            "1        X2  4.456428e-10\n",
            "2        X3  1.031479e-03\n",
            "16      X17  1.767297e-03\n",
            "28      X29  1.706660e-05\n",
            "...     ...           ...\n",
            "2293  X2294  8.203715e-03\n",
            "2298  X2299  7.532249e-03\n",
            "2300  X2301  1.235586e-05\n",
            "2302  X2303  4.158198e-11\n",
            "2303  X2304  9.394937e-03\n",
            "\n",
            "[412 rows x 2 columns]\n",
            "\n",
            "1162 genes significativos con Benjamini-Hochberg:\n",
            "        gen          p_bh\n",
            "0        X1  1.265852e-17\n",
            "1        X2  8.152174e-12\n",
            "2        X3  4.657645e-06\n",
            "8        X9  4.036939e-04\n",
            "11      X12  4.820118e-02\n",
            "...     ...           ...\n",
            "2299  X2300  2.348992e-04\n",
            "2300  X2301  8.645072e-08\n",
            "2301  X2302  3.545827e-02\n",
            "2302  X2303  9.420024e-13\n",
            "2303  X2304  3.303289e-05\n",
            "\n",
            "[1162 rows x 2 columns]\n"
          ]
        }
      ]
    },
    {
      "cell_type": "markdown",
      "source": [
        "**4.** Con los datos obtenidos, se separan los datos en** entrenamiento y prueba** con `train_test_split`. Cabe aclarar, que al ser **mucho menos muestras que variables**, la proporción utilizada fue un **50/50** para **evitar el sobreajuste y resultados engañosos** al utilizar muy pocas muestras en test. Por la misma razón, **se redujo el número de variables** utilizando solamente los **10 genes más significativos** segun la metología de **benjamini-hochberg**. Una vez hecho esto, se generan **modelos de SVM (support vector machine)** utilizando la función `SVC` de `sklearn`. Se generan **3 kernels**: **lineal**, **polinomial de grado 3** y **radial**. Se ajustan los 3 modelos con los datos de entrenamiento y prueba y se obtienen las predicciones con los datos de test."
      ],
      "metadata": {
        "id": "ZOn2jCSIN0YK"
      }
    },
    {
      "cell_type": "code",
      "source": [
        "from sklearn.model_selection import train_test_split\n",
        "from sklearn.svm import SVC\n",
        "\n",
        "genes_modelo = anova_results.sort_values(by='p_bh').head(10)['gen']\n",
        "print(f\"genes a utilizar: \\n {genes_modelo}\")\n",
        "x_gen_model = X[genes_modelo]\n",
        "\n",
        "X_train, X_test, y_train, y_test = train_test_split(x_gen_model, y, test_size=0.5, random_state=42, stratify=y)\n",
        "\n",
        "svm_linear = SVC(kernel = 'linear')\n",
        "svm_poly = SVC(kernel='poly',degree=3)\n",
        "svm_rbf = SVC(kernel='rbf')\n",
        "\n",
        "svm_linear.fit(X_train, y_train)\n",
        "svm_poly.fit(X_train, y_train)\n",
        "svm_rbf.fit(X_train, y_train)\n",
        "\n",
        "y_pred_linear = svm_linear.predict(X_test)\n",
        "y_pred_poly = svm_poly.predict(X_test)\n",
        "y_pred_rbf = svm_rbf.predict(X_test)"
      ],
      "metadata": {
        "id": "gFi0U5reY9Or",
        "colab": {
          "base_uri": "https://localhost:8080/"
        },
        "outputId": "3c1e7922-589c-4d26-8e3e-2e7bbc95792f"
      },
      "execution_count": 101,
      "outputs": [
        {
          "output_type": "stream",
          "name": "stdout",
          "text": [
            "genes a utilizar: \n",
            "         gen  f_statistic       p_value  p_bonferroni        p_holm  \\\n",
            "1388  X1389    83.817537  1.772751e-24  4.091510e-21  4.089737e-21   \n",
            "1954  X1955    84.364086  1.459035e-24  3.367454e-21  3.367454e-21   \n",
            "1002  X1003    77.795622  1.618988e-23  3.736625e-20  3.733387e-20   \n",
            "2049  X2050    69.230799  4.733702e-22  1.092539e-18  1.091118e-18   \n",
            "245    X246    68.414042  6.633722e-22  1.531063e-18  1.528410e-18   \n",
            "741    X742    65.572797  2.195548e-21  5.067325e-18  5.056347e-18   \n",
            "0        X1    59.118264  3.839240e-20  8.860966e-17  8.837930e-17   \n",
            "2161  X2162    56.987623  1.035143e-19  2.389109e-16  2.381863e-16   \n",
            "1953  X1954    55.419914  2.182635e-19  5.037522e-16  5.020061e-16   \n",
            "186    X187    54.615724  3.217900e-19  7.426914e-16  7.394735e-16   \n",
            "\n",
            "              p_bh  \n",
            "1388  2.045755e-21  \n",
            "1954  2.045755e-21  \n",
            "1002  1.245542e-20  \n",
            "2049  2.731346e-19  \n",
            "245   3.062126e-19  \n",
            "741   8.445542e-19  \n",
            "0     1.265852e-17  \n",
            "2161  2.986387e-17  \n",
            "1953  5.597246e-17  \n",
            "186   6.751740e-17  \n"
          ]
        }
      ]
    },
    {
      "cell_type": "markdown",
      "source": [
        "**5.** Con los resultados obtenidos, se utiliza la función `classification_report` de `sklearn.metrics` para **analizar las metricas** de cada modelo y comparar los resultados."
      ],
      "metadata": {
        "id": "_RKQtlzOP8u_"
      }
    },
    {
      "cell_type": "code",
      "source": [
        "from sklearn.metrics import classification_report\n",
        "\n",
        "print(\"SVM con kernel lineal:\")\n",
        "print(classification_report(y_test, y_pred_linear))\n",
        "\n",
        "print(\"\\nSVM con kernel polinomial (grado 3):\")\n",
        "print(classification_report(y_test, y_pred_poly))\n",
        "\n",
        "print(\"\\nSVM con kernel radial:\")\n",
        "print(classification_report(y_test, y_pred_rbf))"
      ],
      "metadata": {
        "colab": {
          "base_uri": "https://localhost:8080/"
        },
        "id": "TogvgQV5bcga",
        "outputId": "20a3f8d7-82ed-44ec-8aed-b184e4312abf"
      },
      "execution_count": 100,
      "outputs": [
        {
          "output_type": "stream",
          "name": "stdout",
          "text": [
            "SVM con kernel lineal:\n",
            "              precision    recall  f1-score   support\n",
            "\n",
            "           1       0.83      1.00      0.91         5\n",
            "           2       0.93      0.93      0.93        15\n",
            "           3       1.00      1.00      1.00         9\n",
            "           4       1.00      0.92      0.96        13\n",
            "\n",
            "    accuracy                           0.95        42\n",
            "   macro avg       0.94      0.96      0.95        42\n",
            "weighted avg       0.96      0.95      0.95        42\n",
            "\n",
            "\n",
            "SVM con kernel polinomial (grado 3):\n",
            "              precision    recall  f1-score   support\n",
            "\n",
            "           1       1.00      1.00      1.00         5\n",
            "           2       1.00      0.80      0.89        15\n",
            "           3       1.00      0.67      0.80         9\n",
            "           4       0.68      1.00      0.81        13\n",
            "\n",
            "    accuracy                           0.86        42\n",
            "   macro avg       0.92      0.87      0.88        42\n",
            "weighted avg       0.90      0.86      0.86        42\n",
            "\n",
            "\n",
            "SVM con kernel radial:\n",
            "              precision    recall  f1-score   support\n",
            "\n",
            "           1       1.00      1.00      1.00         5\n",
            "           2       0.94      1.00      0.97        15\n",
            "           3       1.00      1.00      1.00         9\n",
            "           4       1.00      0.92      0.96        13\n",
            "\n",
            "    accuracy                           0.98        42\n",
            "   macro avg       0.98      0.98      0.98        42\n",
            "weighted avg       0.98      0.98      0.98        42\n",
            "\n"
          ]
        }
      ]
    },
    {
      "cell_type": "markdown",
      "source": [
        "Con los resultados obtenidos, se puede observar que el modelo con **kernel radial tiene un mejor resultado en todas las métricas**. Aún así, **el modelo de kernel lineal muestra metricas bastante solidas** con buen accuracy y mejor precision en promedio por clase, además de ser el **más rápido computacionalmente**. Por esta razón, si lo que se busca es un **modelo robusto y preciso**, el **kernel radial** es el que cumple mejor la tarea. Pero si se busca un **equilibrio entre exactitud y rapidez**, el **kernel lineal** puede entregar muy buenos resultados utilizando menos poder computacional."
      ],
      "metadata": {
        "id": "TZIj0ShrQRv1"
      }
    }
  ]
}